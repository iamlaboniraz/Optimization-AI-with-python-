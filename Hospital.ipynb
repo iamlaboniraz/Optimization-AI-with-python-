{
 "cells": [
  {
   "cell_type": "code",
   "execution_count": 1,
   "id": "833b4e9a-d645-4534-aec6-964d7f53fb3b",
   "metadata": {},
   "outputs": [],
   "source": [
    "import random"
   ]
  },
  {
   "cell_type": "code",
   "execution_count": 15,
   "id": "78ded845-599e-4de7-a740-3a608750802c",
   "metadata": {},
   "outputs": [
    {
     "name": "stdout",
     "output_type": "stream",
     "text": [
      "Number of Available spaces:  187\n"
     ]
    }
   ],
   "source": [
    "class Space():\n",
    "    def __init__(self, height, width, num_hospitals):\n",
    "        self.height = height\n",
    "        self.width = width\n",
    "        self.num_hospitals = num_hospitals\n",
    "        self.houses = set()\n",
    "        self.hospitals = set()\n",
    "        \n",
    "    def add_house(self, row, col):\n",
    "        self.houses.add((row,col))\n",
    "        \n",
    "    def add_hospital(self, row, col):\n",
    "        self.hospitals.add((row,col))\n",
    "\n",
    "    def available_spaces(self):\n",
    "        \"\"\" Returns all cells not currently used by a house or hospitals \"\"\"\n",
    "        # consider all possible cells\n",
    "        candidates = set(\n",
    "            (row,col)\n",
    "            for row in range(self.height)\n",
    "            for col in range(self.width)\n",
    "        )\n",
    "        # Remove all houses and hospitals\n",
    "        for house in self.houses:\n",
    "            candidates.remove(house)\n",
    "        for hospital in self.hospitals:\n",
    "            candidates.remove(hospital)\n",
    "        return candidates\n",
    "\n",
    "space = Space(height=10, width=20, num_hospitals=3)\n",
    "for i in range(15):\n",
    "    space.add_house(\n",
    "        random.randrange(space.height), \n",
    "        random.randrange(space.width))\n",
    "# print(\"Available spaces: \", space.available_spaces())\n",
    "print(\"Number of Available spaces: \", len(space.available_spaces()))"
   ]
  },
  {
   "cell_type": "code",
   "execution_count": 23,
   "id": "59e7009e-d145-48dc-ae13-aeeef324a026",
   "metadata": {},
   "outputs": [
    {
     "name": "stdout",
     "output_type": "stream",
     "text": [
      "Calculating distances: \n",
      "House (4, 4) : \n",
      " -> Hospital (0, 2): Distance = 6\n",
      " -> Hospital (3, 3): Distance = 2\n",
      "Nearest = 2\n",
      "\n",
      "House (1, 3) : \n",
      " -> Hospital (0, 2): Distance = 2\n",
      " -> Hospital (3, 3): Distance = 2\n",
      "Nearest = 2\n",
      "\n",
      "House (0, 0) : \n",
      " -> Hospital (0, 2): Distance = 2\n",
      " -> Hospital (3, 3): Distance = 6\n",
      "Nearest = 2\n",
      "\n",
      "total cost:  6\n"
     ]
    }
   ],
   "source": [
    "class Space():\n",
    "    def __init__(self):\n",
    "        self.houses = set()\n",
    "        \n",
    "    def add_house(self, row, col):\n",
    "        self.houses.add((row,col))\n",
    "\n",
    "\n",
    "    def get_cost(self, hospitals):\n",
    "        \"\"\" calculate sum of distances from houses to nearest hospital. \"\"\"\n",
    "        cost = 0\n",
    "        for house in self.houses:\n",
    "            cost += min(\n",
    "                abs(house[0]- hospital[0]) + abs(house[1] - hospital[1])\n",
    "                for hospital in hospitals\n",
    "            )\n",
    "        return cost\n",
    "space = Space()\n",
    "\n",
    "# add 3 houses\n",
    "space.add_house(0,0)\n",
    "space.add_house(1,3)\n",
    "space.add_house(4,4)\n",
    "hospitals = {(0,2), (3,3)}\n",
    "print(\"Calculating distances: \")\n",
    "for house in space.houses:\n",
    "    distances = []\n",
    "    for hospital in hospitals:\n",
    "        d = abs(house[0] - hospital[0]) + abs(house[1] - hospital[1])\n",
    "        distances.append((hospital, d))\n",
    "    print(f\"House {house} : \")\n",
    "    for hosp, dist in distances:\n",
    "        print(f\" -> Hospital {hosp}: Distance = {dist}\")\n",
    "    min_dist = min(d[1] for d in distances)\n",
    "    print(f\"Nearest = {min_dist}\\n\")\n",
    "    \n",
    "total_cost = space.get_cost(hospitals)\n",
    "print(\"total cost: \", total_cost)"
   ]
  },
  {
   "cell_type": "code",
   "execution_count": null,
   "id": "ae40a0d8-0328-4c03-adc7-03969dae9703",
   "metadata": {},
   "outputs": [],
   "source": []
  },
  {
   "cell_type": "code",
   "execution_count": null,
   "id": "12bcf44c-7fa6-4af8-8ae0-934459c7fa1e",
   "metadata": {},
   "outputs": [],
   "source": []
  },
  {
   "cell_type": "code",
   "execution_count": null,
   "id": "773941e5-a00e-4e3c-9d28-03991f975aa9",
   "metadata": {},
   "outputs": [],
   "source": []
  },
  {
   "cell_type": "code",
   "execution_count": null,
   "id": "78a22729-a563-477d-96a2-24bef32e5ae1",
   "metadata": {},
   "outputs": [],
   "source": []
  },
  {
   "cell_type": "code",
   "execution_count": null,
   "id": "f3d6ed3a-0a0a-4d43-90fe-f547df502a56",
   "metadata": {},
   "outputs": [],
   "source": []
  }
 ],
 "metadata": {
  "kernelspec": {
   "display_name": "Python 3 (ipykernel)",
   "language": "python",
   "name": "python3"
  },
  "language_info": {
   "codemirror_mode": {
    "name": "ipython",
    "version": 3
   },
   "file_extension": ".py",
   "mimetype": "text/x-python",
   "name": "python",
   "nbconvert_exporter": "python",
   "pygments_lexer": "ipython3",
   "version": "3.12.2"
  }
 },
 "nbformat": 4,
 "nbformat_minor": 5
}
